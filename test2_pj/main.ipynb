{
 "metadata": {
  "language_info": {
   "codemirror_mode": {
    "name": "ipython",
    "version": 3
   },
   "file_extension": ".py",
   "mimetype": "text/x-python",
   "name": "python",
   "nbconvert_exporter": "python",
   "pygments_lexer": "ipython3",
   "version": "3.8.0-final"
  },
  "orig_nbformat": 2,
  "kernelspec": {
   "name": "python3",
   "display_name": "Python 3",
   "language": "python"
  }
 },
 "nbformat": 4,
 "nbformat_minor": 2,
 "cells": [
  {
   "cell_type": "code",
   "execution_count": 5,
   "metadata": {},
   "outputs": [],
   "source": [
    "import pathlib"
   ]
  },
  {
   "cell_type": "code",
   "execution_count": 3,
   "metadata": {},
   "outputs": [],
   "source": [
    "import win32com.client\n",
    "from pywintypes import com_error\n",
    "from pathlib import Path"
   ]
  },
  {
   "cell_type": "code",
   "execution_count": 2,
   "metadata": {},
   "outputs": [],
   "source": [
    "# 検索する文字列: 置換する文字列\n",
    "REPLACE_TXTS = {\n",
    "    '{{セルテキスト1}}': 'こんにちは。',\n",
    "    '{{セルテキスト2}}': 'おはようございます。'\n",
    "}\n"
   ]
  },
  {
   "cell_type": "code",
   "execution_count": 9,
   "metadata": {},
   "outputs": [
    {
     "output_type": "stream",
     "name": "stdout",
     "text": [
      "成功。\n"
     ]
    }
   ],
   "source": [
    "nowdir = Path().resolve()#Path(__file__).absolute().parent\n",
    "\n",
    "excel = win32com.client.Dispatch('Excel.Application')\n",
    "\n",
    "excel.Visible = False\n",
    "\n",
    "try:\n",
    "    # xlsxファイルを開く\n",
    "    wb = excel.Workbooks.Add(str(nowdir / 'template.xlsx'))\n",
    "    sheet = wb.WorkSheets(1)\n",
    "    sheet.Activate()\n",
    "\n",
    "    # セル内のテキストを置換\n",
    "    rg = sheet.Range(sheet.usedRange.Address)\n",
    "    for search_txt, replace_Txt in REPLACE_TXTS.items():\n",
    "        rg.Replace(search_txt, replace_Txt)\n",
    "\n",
    "    # 別名で保存\n",
    "    wb.SaveAs(str(nowdir / 'new.xlsx'))\n",
    "\n",
    "except com_error as e:\n",
    "    print('失敗。', e)\n",
    "else:\n",
    "    print('成功。')\n",
    "finally:\n",
    "    wb.Close(False)\n",
    "    excel.Quit()"
   ]
  },
  {
   "cell_type": "code",
   "execution_count": 8,
   "metadata": {},
   "outputs": [
    {
     "output_type": "error",
     "ename": "NameError",
     "evalue": "name '__file__' is not defined",
     "traceback": [
      "\u001b[1;31m---------------------------------------------------------------------------\u001b[0m",
      "\u001b[1;31mNameError\u001b[0m                                 Traceback (most recent call last)",
      "\u001b[1;32m<ipython-input-8-91a69eb0ed38>\u001b[0m in \u001b[0;36m<module>\u001b[1;34m\u001b[0m\n\u001b[1;32m----> 1\u001b[1;33m \u001b[0mprint\u001b[0m\u001b[1;33m(\u001b[0m\u001b[0mPath\u001b[0m\u001b[1;33m(\u001b[0m\u001b[0m__file__\u001b[0m\u001b[1;33m)\u001b[0m\u001b[1;33m.\u001b[0m\u001b[0mparents\u001b[0m\u001b[1;33m[\u001b[0m\u001b[1;36m0\u001b[0m\u001b[1;33m]\u001b[0m\u001b[1;33m.\u001b[0m\u001b[0mabsolute\u001b[0m\u001b[1;33m(\u001b[0m\u001b[1;33m)\u001b[0m\u001b[1;33m)\u001b[0m\u001b[1;33m\u001b[0m\u001b[1;33m\u001b[0m\u001b[0m\n\u001b[0m",
      "\u001b[1;31mNameError\u001b[0m: name '__file__' is not defined"
     ]
    }
   ],
   "source": [
    "print(Path(__file__).parents[0].absolute())\n"
   ]
  },
  {
   "cell_type": "code",
   "execution_count": null,
   "metadata": {},
   "outputs": [],
   "source": []
  }
 ]
}